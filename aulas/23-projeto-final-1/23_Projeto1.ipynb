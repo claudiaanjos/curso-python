{
  "nbformat": 4,
  "nbformat_minor": 0,
  "metadata": {
    "colab": {
      "name": "23.Projeto1.ipynb",
      "provenance": []
    },
    "kernelspec": {
      "name": "python3",
      "display_name": "Python 3"
    },
    "language_info": {
      "name": "python"
    }
  },
  "cells": [
    {
      "cell_type": "markdown",
      "source": [
        "Prof. Fernando Amaral\n",
        "\n",
        "www.eia.ai"
      ],
      "metadata": {
        "id": "in4nwG0q8CnQ"
      }
    },
    {
      "cell_type": "markdown",
      "source": [
        "# Projeto Final I"
      ],
      "metadata": {
        "id": "kWQbQf-wLbmV"
      }
    },
    {
      "cell_type": "code",
      "execution_count": null,
      "metadata": {
        "id": "9IkLDLe4hlH0"
      },
      "outputs": [],
      "source": [
        "from numpy import cov, var, std, min, max, sqrt, mean\n",
        "import matplotlib.pyplot as plt\n",
        "\n",
        "class RegressaoLinear:\n",
        "  def __init__(self, x, y):\n",
        "    self.x = x\n",
        "    self.y = y\n",
        "  \n",
        "  def correlacao(self):\n",
        "    covariacao = cov(self.x,self.y,bias=True)[0][1]\n",
        "    variancia_x = var(self.x)\n",
        "    variancia_y = var(self.y)\n",
        "    return covariacao / sqrt(variancia_x * variancia_y)\n",
        "  \n",
        "  def inclinacao(self):\n",
        "    stdx = std(self.x)\n",
        "    stdy = std(self.y)\n",
        "    return self.correlacao() * (stdy/stdx)\n",
        "\n",
        "  def interceptacao(self):\n",
        "    mediax = mean(self.x)\n",
        "    mediay = mean(self.y)\n",
        "    return mediay - mediax * self.inclinacao()\n",
        "  \n",
        "  def previsao(self,valor):\n",
        "    intercepta = self.interceptacao()\n",
        "    return (self.inclinacao() * valor) + intercepta\n",
        "\n",
        "  def PlotaRegressao(self,titulo=\"Regressão Linear\", nome_x=\"Eixo X\", nome_y=\"Eixo y\"):\n",
        "    plt.xlabel(nome_x)\n",
        "    plt.ylabel(nome_y)\n",
        "    plt.title(titulo)\n",
        "\n",
        "    plt.scatter(self.x,self.y)\n",
        "    x_min = min(self.x)\n",
        "    x_max = max(self.x)\n",
        "    x_reta = [x_min,x_max]\n",
        "    y_reta = [self.previsao(x_min), self.previsao(x_max)]\n",
        "    plt.plot(x_reta, y_reta, c='r')\n",
        "    plt.show()\n",
        "\n"
      ]
    },
    {
      "cell_type": "code",
      "source": [
        "idade = [18,23,25,33,34,43,48,51,58,63,67]\n",
        "custo = [871,1100,1393,1654,1915,2100,2356,2698,2959,3000,3100]\n",
        "regressao = RegressaoLinear(idade,custo)\n",
        "preve = regressao.previsao(18)\n",
        "print(preve)"
      ],
      "metadata": {
        "colab": {
          "base_uri": "https://localhost:8080/"
        },
        "id": "zaktYO8eknK0",
        "outputId": "e7c48961-1e30-4ddc-fbba-14a417fadccd"
      },
      "execution_count": null,
      "outputs": [
        {
          "output_type": "stream",
          "name": "stdout",
          "text": [
            "985.1583117723151\n"
          ]
        }
      ]
    },
    {
      "cell_type": "code",
      "source": [
        "regressao.PlotaRegressao(\"Plano de Saúde\",\"Idade\",\"Custo\")"
      ],
      "metadata": {
        "colab": {
          "base_uri": "https://localhost:8080/",
          "height": 295
        },
        "id": "R4c74AbjlSrL",
        "outputId": "a237e42c-7b89-4841-d74f-cfe23e5ec622"
      },
      "execution_count": null,
      "outputs": [
        {
          "output_type": "display_data",
          "data": {
            "text/plain": [
              "<Figure size 432x288 with 1 Axes>"
            ],
            "image/png": "[encoded data removed]"
          },
          "metadata": {
            "needs_background": "light"
          }
        }
      ]
    },
    {
      "cell_type": "code",
      "source": [
        ""
      ],
      "metadata": {
        "id": "T1biii-los3E"
      },
      "execution_count": null,
      "outputs": []
    }
  ]
}